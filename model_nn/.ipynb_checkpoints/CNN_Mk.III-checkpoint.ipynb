{
 "cells": [
  {
   "cell_type": "markdown",
   "id": "88c7064a",
   "metadata": {},
   "source": [
    "# CNN Challange Platinum Binar"
   ]
  },
  {
   "cell_type": "code",
   "execution_count": 1,
   "id": "0b5d6039",
   "metadata": {},
   "outputs": [],
   "source": [
    "#Library\n",
    "import numpy as np\n",
    "import pandas as pd\n",
    "import re \n",
    "\n",
    "from sklearn.model_selection import train_test_split #split data train vs test\n",
    "\n",
    "from tensorflow.keras.preprocessing.text import Tokenizer #token generator\n",
    "from tensorflow.keras.utils import pad_sequences,to_categorical #penyaman panjang array\n",
    "\n",
    "from imblearn.over_sampling import SMOTE #kalau kondisi datanya overfit\n",
    "\n",
    "from tensorflow.keras.models import Sequential #cara kerja ml secara berurut(serial)\n",
    "from tensorflow.keras.layers import Dense, Embedding, LSTM, Conv1D, GlobalMaxPooling1D #layer pada fungsi CNN\n",
    "from tensorflow.keras.callbacks import EarlyStopping #untuk stop ML kalo udah gk nemu titik loss lebih rendah\n",
    "from sklearn.metrics import precision_recall_fscore_support, accuracy_score #hasil kemampuan machine learning\n",
    "\n",
    "from sklearn.preprocessing import LabelEncoder #transalate label menjadi indeks (untuk kasus lebih dari 2 variabel)\n",
    "from tensorflow.keras.utils import to_categorical #Membuat array 1 dimensi(dari hasil label encoder) jadi array 2 dimensi\n",
    "\n",
    "import tensorflow as tf #ini buat GPU TF"
   ]
  },
  {
   "cell_type": "code",
   "execution_count": 20,
   "id": "8a6434b1",
   "metadata": {},
   "outputs": [
    {
     "name": "stdout",
     "output_type": "stream",
     "text": [
      "                                                 tweets    labels\n",
      "0     tempat yang nyaman untuk berkumpul dengan tema...  positive\n",
      "1     memang banyak bacot sih , omongan doang gede b...  negative\n",
      "2     buat yang berkunjung ke bandung , yang ingin m...  positive\n",
      "3     restoran menyajikan makanan khas sunda yang en...  positive\n",
      "4     kalau travelling ke bandung , wajib makan bata...  positive\n",
      "...                                                 ...       ...\n",
      "9895  warung nasi ampera memiliki konsep rumah makan...  positive\n",
      "9896  mbak della sangat baik dan ramah , makanna nya...  positive\n",
      "9897  suasana nya sangat romantis jika makan malam d...  positive\n",
      "9898  masyarakat tidak kecewa jika dipimpin oleh jok...  positive\n",
      "9899  mau itu pak ridwan kamil atau pak dedi mulyadi...  positive\n",
      "\n",
      "[9900 rows x 2 columns]\n"
     ]
    }
   ],
   "source": [
    "#Data Frame\n",
    "df = pd.read_csv('train_data.csv')\n",
    "print(df)"
   ]
  },
  {
   "cell_type": "code",
   "execution_count": 22,
   "id": "290eed5d",
   "metadata": {},
   "outputs": [],
   "source": [
    "df.columns = ['kalimat','HS']"
   ]
  },
  {
   "cell_type": "code",
   "execution_count": 23,
   "id": "83f9ae64",
   "metadata": {},
   "outputs": [
    {
     "data": {
      "text/html": [
       "<div>\n",
       "<style scoped>\n",
       "    .dataframe tbody tr th:only-of-type {\n",
       "        vertical-align: middle;\n",
       "    }\n",
       "\n",
       "    .dataframe tbody tr th {\n",
       "        vertical-align: top;\n",
       "    }\n",
       "\n",
       "    .dataframe thead th {\n",
       "        text-align: right;\n",
       "    }\n",
       "</style>\n",
       "<table border=\"1\" class=\"dataframe\">\n",
       "  <thead>\n",
       "    <tr style=\"text-align: right;\">\n",
       "      <th></th>\n",
       "      <th>kalimat</th>\n",
       "      <th>HS</th>\n",
       "    </tr>\n",
       "  </thead>\n",
       "  <tbody>\n",
       "    <tr>\n",
       "      <th>0</th>\n",
       "      <td>tempat yang nyaman untuk berkumpul dengan tema...</td>\n",
       "      <td>positive</td>\n",
       "    </tr>\n",
       "    <tr>\n",
       "      <th>1</th>\n",
       "      <td>memang banyak bacot sih , omongan doang gede b...</td>\n",
       "      <td>negative</td>\n",
       "    </tr>\n",
       "    <tr>\n",
       "      <th>2</th>\n",
       "      <td>buat yang berkunjung ke bandung , yang ingin m...</td>\n",
       "      <td>positive</td>\n",
       "    </tr>\n",
       "    <tr>\n",
       "      <th>3</th>\n",
       "      <td>restoran menyajikan makanan khas sunda yang en...</td>\n",
       "      <td>positive</td>\n",
       "    </tr>\n",
       "    <tr>\n",
       "      <th>4</th>\n",
       "      <td>kalau travelling ke bandung , wajib makan bata...</td>\n",
       "      <td>positive</td>\n",
       "    </tr>\n",
       "    <tr>\n",
       "      <th>...</th>\n",
       "      <td>...</td>\n",
       "      <td>...</td>\n",
       "    </tr>\n",
       "    <tr>\n",
       "      <th>9895</th>\n",
       "      <td>warung nasi ampera memiliki konsep rumah makan...</td>\n",
       "      <td>positive</td>\n",
       "    </tr>\n",
       "    <tr>\n",
       "      <th>9896</th>\n",
       "      <td>mbak della sangat baik dan ramah , makanna nya...</td>\n",
       "      <td>positive</td>\n",
       "    </tr>\n",
       "    <tr>\n",
       "      <th>9897</th>\n",
       "      <td>suasana nya sangat romantis jika makan malam d...</td>\n",
       "      <td>positive</td>\n",
       "    </tr>\n",
       "    <tr>\n",
       "      <th>9898</th>\n",
       "      <td>masyarakat tidak kecewa jika dipimpin oleh jok...</td>\n",
       "      <td>positive</td>\n",
       "    </tr>\n",
       "    <tr>\n",
       "      <th>9899</th>\n",
       "      <td>mau itu pak ridwan kamil atau pak dedi mulyadi...</td>\n",
       "      <td>positive</td>\n",
       "    </tr>\n",
       "  </tbody>\n",
       "</table>\n",
       "<p>9900 rows × 2 columns</p>\n",
       "</div>"
      ],
      "text/plain": [
       "                                                kalimat        HS\n",
       "0     tempat yang nyaman untuk berkumpul dengan tema...  positive\n",
       "1     memang banyak bacot sih , omongan doang gede b...  negative\n",
       "2     buat yang berkunjung ke bandung , yang ingin m...  positive\n",
       "3     restoran menyajikan makanan khas sunda yang en...  positive\n",
       "4     kalau travelling ke bandung , wajib makan bata...  positive\n",
       "...                                                 ...       ...\n",
       "9895  warung nasi ampera memiliki konsep rumah makan...  positive\n",
       "9896  mbak della sangat baik dan ramah , makanna nya...  positive\n",
       "9897  suasana nya sangat romantis jika makan malam d...  positive\n",
       "9898  masyarakat tidak kecewa jika dipimpin oleh jok...  positive\n",
       "9899  mau itu pak ridwan kamil atau pak dedi mulyadi...  positive\n",
       "\n",
       "[9900 rows x 2 columns]"
      ]
     },
     "execution_count": 23,
     "metadata": {},
     "output_type": "execute_result"
    }
   ],
   "source": [
    "df"
   ]
  },
  {
   "cell_type": "code",
   "execution_count": 24,
   "id": "7335b0cc",
   "metadata": {},
   "outputs": [],
   "source": [
    "#Fungsi cleansing data \n",
    "def preprocessing_text(text):\n",
    "    text = text.strip()\n",
    "    text = text.lower()\n",
    "    text = text.replace(\"\\\\n\",\" \")\n",
    "    text = re.sub(r\"(\\s)(\\1+)\",r\"\\1\",text)\n",
    "    text = text.replace(\"rt\",\"\")\n",
    "    text = text.replace(\"user \",\"\")\n",
    "    text = text.replace(\" user\",\"\")\n",
    "    text = re.sub(r\"([a-z])(\\1{3,})\",r\"\\1\\1\",text)\n",
    "    text = re.sub(r\"(\\\\x)([a-z0-9]{2})\",r\"\",text)\n",
    "    text = text.replace(\"\\\\x8\",\"\")\n",
    "    text = text.strip()\n",
    "    \n",
    "    return text"
   ]
  },
  {
   "cell_type": "code",
   "execution_count": 25,
   "id": "07aeca16",
   "metadata": {},
   "outputs": [],
   "source": [
    "#Cleansing Data Tweet\n",
    "df['cleaned_kalimat'] = df.kalimat.apply(lambda x:preprocessing_text(x))"
   ]
  },
  {
   "cell_type": "code",
   "execution_count": 26,
   "id": "b0b263e4",
   "metadata": {},
   "outputs": [],
   "source": [
    "#Split Data Training vs Data Validation\n",
    "X_train, X_val, y_train, y_val = train_test_split(df['cleaned_kalimat'],df['HS'], random_state=0, test_size=0.2)"
   ]
  },
  {
   "cell_type": "code",
   "execution_count": 27,
   "id": "b0a72c8a",
   "metadata": {},
   "outputs": [],
   "source": [
    "#Tokenizer buat mecah kalimat jadi kata - kata \n",
    "max_features = 10000\n",
    "tknzr = Tokenizer(num_words=max_features,\n",
    "                  filters='!\"#$%&()*+,-./:;<=>?@[\\\\]^_`{|}~\\t\\n',\n",
    "                  split=' ', lower=True\n",
    "                 )"
   ]
  },
  {
   "cell_type": "code",
   "execution_count": 28,
   "id": "c1e019e7",
   "metadata": {},
   "outputs": [
    {
     "name": "stdout",
     "output_type": "stream",
     "text": [
      "positive    5790\n",
      "negative    3083\n",
      "neutral     1027\n",
      "Name: HS, dtype: int64\n"
     ]
    }
   ],
   "source": [
    "print(df['HS'].value_counts())"
   ]
  },
  {
   "cell_type": "code",
   "execution_count": 29,
   "id": "aac9ebe4",
   "metadata": {
    "scrolled": false
   },
   "outputs": [
    {
     "name": "stdout",
     "output_type": "stream",
     "text": [
      "5281             banyak keluarga saya yang bekerja di bjb\n",
      "2929    cebong memang cetek otak nya kelamaan berendem...\n",
      "5167    anjirlah . saya tidak suka kamu karena menurut...\n",
      "5255    hop hop the bubble drinks di mal bandung indah...\n",
      "3078    saya muak dengan keputusan offside yang sebetu...\n",
      "                              ...                        \n",
      "9225    memang islam itu agama tidak bermoral cacat lonte\n",
      "4859    setelah pulang kerja , saya bersama seorang te...\n",
      "3264    sudirman said mengelaborasi sejumlah isu yang ...\n",
      "9845    bermula saat rapat di bandung , pukul 09.00 di...\n",
      "2732    fpi belum bubar ya . jika terus-terus buat rus...\n",
      "Name: cleaned_kalimat, Length: 7920, dtype: object\n"
     ]
    }
   ],
   "source": [
    "print(X_train)"
   ]
  },
  {
   "cell_type": "code",
   "execution_count": 30,
   "id": "5bed5ca1",
   "metadata": {},
   "outputs": [
    {
     "name": "stdout",
     "output_type": "stream",
     "text": [
      "5281     neutral\n",
      "2929    negative\n",
      "5167    negative\n",
      "5255    positive\n",
      "3078    negative\n",
      "          ...   \n",
      "9225    negative\n",
      "4859    positive\n",
      "3264     neutral\n",
      "9845    positive\n",
      "2732    negative\n",
      "Name: HS, Length: 7920, dtype: object\n"
     ]
    }
   ],
   "source": [
    "print(y_train)"
   ]
  },
  {
   "cell_type": "code",
   "execution_count": 31,
   "id": "3740e0c6",
   "metadata": {},
   "outputs": [],
   "source": [
    "#Tokenisasi kalimat \n",
    "tknzr.fit_on_texts(X_train) # Tokenisasi\n",
    "X_train = tknzr.texts_to_sequences(X_train)# Proses token di translate jadi indeks\n",
    "X_train = pad_sequences(X_train, maxlen=64)# Proses penyamanaan banyak indeks dalam suatu array\n",
    "y_train = pd.get_dummies(y_train).values\n",
    "\n",
    "X_val = tknzr.texts_to_sequences(X_val)\n",
    "X_val = pad_sequences(X_val, maxlen=64)\n",
    "y_val = pd.get_dummies(y_val).values"
   ]
  },
  {
   "cell_type": "code",
   "execution_count": 32,
   "id": "e7433adf",
   "metadata": {},
   "outputs": [
    {
     "name": "stdout",
     "output_type": "stream",
     "text": [
      "tknzr.pickle has created!\n"
     ]
    }
   ],
   "source": [
    "# save tokenizer\n",
    "import pickle\n",
    "\n",
    "with open('tknzr.pickle', 'wb') as handle:\n",
    "    pickle.dump(tknzr, handle, protocol=pickle.HIGHEST_PROTOCOL)\n",
    "    print(\"tknzr.pickle has created!\")"
   ]
  },
  {
   "cell_type": "code",
   "execution_count": 33,
   "id": "83777737",
   "metadata": {},
   "outputs": [],
   "source": [
    "#Fixing Overfitting data\n",
    "smote = SMOTE() #dipake untuk kalo label data jomplang biar disamain \n",
    "X_train, y_train = smote.fit_resample(X_train, y_train)"
   ]
  },
  {
   "cell_type": "code",
   "execution_count": 34,
   "id": "7c0f0124",
   "metadata": {},
   "outputs": [],
   "source": [
    "#Setting Model Machine Learning CNN\n",
    "embed_dim = 64\n",
    "batch_size = 20\n",
    "\n",
    "model = Sequential()\n",
    "model.add(Embedding(tknzr.num_words, embed_dim,input_length=64))\n",
    "\n",
    "#Conv1\n",
    "model.add(Conv1D(filters=64, kernel_size=5, activation='relu',)) # kernel size jangan sampai lebih besar dari input_shape\n",
    "model.add(GlobalMaxPooling1D())\n",
    "# model.add(Dense(128, activation='relu')) # relu dipakai untuk dense layer yang ada di tengah2 model\n",
    "model.add(Dense(64, activation='relu')) # relu dipakai untuk dense layer yang ada di tengah2 model\n",
    "model.add(Dense(32, activation='relu'))\n",
    "model.add(Dense(3, activation='softmax')) # sigmoid dan softmax, biasanya dipakai untuk dense layer yang mengeluarkan output.\n",
    "# sigmoid --> pada saat target labelnya hanya terdiri dari 2 kelas (ie: yes/no, True/False, Positive/Negative), \n",
    "              # karena sigmoid hanya memberikan tingkat probabilitas dari data tersebut mempunyai label 1.\n",
    "# softmax --> dipakai pada saat target labelnya lebih dari 2 kelas (ie: positive/neutral/negative, '1,2,3,4,5')\n"
   ]
  },
  {
   "cell_type": "code",
   "execution_count": 35,
   "id": "fdb68728",
   "metadata": {},
   "outputs": [
    {
     "name": "stdout",
     "output_type": "stream",
     "text": [
      "Model: \"sequential\"\n",
      "_________________________________________________________________\n",
      " Layer (type)                Output Shape              Param #   \n",
      "=================================================================\n",
      " embedding (Embedding)       (None, 64, 64)            640000    \n",
      "                                                                 \n",
      " conv1d (Conv1D)             (None, 60, 64)            20544     \n",
      "                                                                 \n",
      " global_max_pooling1d (Globa  (None, 64)               0         \n",
      " lMaxPooling1D)                                                  \n",
      "                                                                 \n",
      " dense (Dense)               (None, 64)                4160      \n",
      "                                                                 \n",
      " dense_1 (Dense)             (None, 32)                2080      \n",
      "                                                                 \n",
      " dense_2 (Dense)             (None, 3)                 99        \n",
      "                                                                 \n",
      "=================================================================\n",
      "Total params: 666,883\n",
      "Trainable params: 666,883\n",
      "Non-trainable params: 0\n",
      "_________________________________________________________________\n",
      "None\n"
     ]
    }
   ],
   "source": [
    "#Compile Model Machine Learning LSTM\n",
    "model.compile(loss='categorical_crossentropy',\n",
    "              optimizer='adam',\n",
    "              metrics=['accuracy']\n",
    "             )\n",
    "print(model.summary())"
   ]
  },
  {
   "cell_type": "code",
   "execution_count": 36,
   "id": "3a911d1c",
   "metadata": {},
   "outputs": [],
   "source": [
    "#Config toggle untuk menjalankan library to_categorical\n",
    "tf.config.run_functions_eagerly(True) "
   ]
  },
  {
   "cell_type": "code",
   "execution_count": 37,
   "id": "7e8c9b5e",
   "metadata": {
    "scrolled": true
   },
   "outputs": [
    {
     "name": "stderr",
     "output_type": "stream",
     "text": [
      "C:\\Users\\Syauqi\\AppData\\Local\\Programs\\Python\\Python311\\Lib\\site-packages\\tensorflow\\python\\data\\ops\\structured_function.py:254: UserWarning: Even though the `tf.config.experimental_run_functions_eagerly` option is set, this option does not apply to tf.data functions. To force eager execution of tf.data functions, please use `tf.data.experimental.enable_debug_mode()`.\n",
      "  warnings.warn(\n"
     ]
    },
    {
     "name": "stdout",
     "output_type": "stream",
     "text": [
      "Epoch 1/10\n",
      "692/692 [==============================] - 68s 97ms/step - loss: 0.6977 - accuracy: 0.6928 - val_loss: 0.4869 - val_accuracy: 0.8167\n",
      "Epoch 2/10\n",
      "692/692 [==============================] - 73s 105ms/step - loss: 0.3742 - accuracy: 0.8575 - val_loss: 0.4914 - val_accuracy: 0.8197\n",
      "Epoch 2: early stopping\n"
     ]
    }
   ],
   "source": [
    "#Validasi Model\n",
    "es = EarlyStopping(monitor='val_loss', mode='min', verbose=1)\n",
    "\n",
    "history = model.fit(X_train, \n",
    "                    y_train, \n",
    "                    epochs=10, \n",
    "                    batch_size=20, \n",
    "                    validation_data=(X_val, y_val),\n",
    "                    verbose=1,\n",
    "                    callbacks=[es])"
   ]
  },
  {
   "cell_type": "code",
   "execution_count": 38,
   "id": "2ee9d8b3",
   "metadata": {},
   "outputs": [
    {
     "name": "stdout",
     "output_type": "stream",
     "text": [
      "62/62 [==============================] - 1s 11ms/step\n"
     ]
    }
   ],
   "source": [
    "#Mengetest model yang sudah belajar dengan Test Data\n",
    "y_pred = model.predict(X_val)"
   ]
  },
  {
   "cell_type": "code",
   "execution_count": 39,
   "id": "31cb1fc8",
   "metadata": {},
   "outputs": [],
   "source": [
    "#Cara Menilai Positive/Negative/Neutral(menggunakan pembulatan hasil)\n",
    "y_pred = np.argmax(y_pred,axis=1)\n",
    "\n",
    "#Transform array HS menjadi indeks(0/1/2)\n",
    "y_true = np.argmax(y_val,axis=1)"
   ]
  },
  {
   "cell_type": "code",
   "execution_count": 40,
   "id": "7c786221",
   "metadata": {},
   "outputs": [
    {
     "name": "stdout",
     "output_type": "stream",
     "text": [
      "[0 0 2 ... 2 2 0]\n",
      "[2 0 2 ... 2 2 0]\n"
     ]
    }
   ],
   "source": [
    "print(y_pred)\n",
    "print(y_true)"
   ]
  },
  {
   "cell_type": "code",
   "execution_count": 41,
   "id": "4e720d65",
   "metadata": {},
   "outputs": [
    {
     "name": "stdout",
     "output_type": "stream",
     "text": [
      "0.8196969696969697\n",
      "(0.7503019186681857, 0.8002203918125206, 0.770575080354186, None)\n"
     ]
    }
   ],
   "source": [
    "#Hasil Model\n",
    "print(accuracy_score(y_pred=y_pred, y_true=y_true))\n",
    "print(precision_recall_fscore_support(y_pred=y_pred, y_true=y_true, average='macro'))"
   ]
  },
  {
   "cell_type": "code",
   "execution_count": 42,
   "id": "38f13286",
   "metadata": {},
   "outputs": [],
   "source": [
    "# tes teks\n",
    "def test(kalimat):\n",
    "    input_kalimat = [kalimat]\n",
    "    input_kalimat = tknzr.texts_to_sequences(input_kalimat)\n",
    "    input_kalimat = pad_sequences(input_kalimat, maxlen=64)\n",
    "    \n",
    "    hasil = model.predict(input_kalimat)\n",
    "    hasil = hasil.argmax(axis=1)\n",
    "\n",
    "    \n",
    "    # konversi nilai prediksi menjadi label sentimen\n",
    "    labels = {0: \"negative\", 1: \"neutral\", 2: \"positive\"}\n",
    "    hasil = labels[hasil[0]]\n",
    "    return hasil"
   ]
  },
  {
   "cell_type": "code",
   "execution_count": 43,
   "id": "898a6524",
   "metadata": {},
   "outputs": [],
   "source": [
    "#Sampel kalimat yang mau ditest\n",
    "Sampel = \"selamat kamu menjadi anak baik\""
   ]
  },
  {
   "cell_type": "code",
   "execution_count": 44,
   "id": "dfaf4fd9",
   "metadata": {
    "scrolled": false
   },
   "outputs": [
    {
     "name": "stdout",
     "output_type": "stream",
     "text": [
      "1/1 [==============================] - 0s 38ms/step\n"
     ]
    },
    {
     "name": "stderr",
     "output_type": "stream",
     "text": [
      "C:\\Users\\Syauqi\\AppData\\Local\\Programs\\Python\\Python311\\Lib\\site-packages\\tensorflow\\python\\data\\ops\\structured_function.py:254: UserWarning: Even though the `tf.config.experimental_run_functions_eagerly` option is set, this option does not apply to tf.data functions. To force eager execution of tf.data functions, please use `tf.data.experimental.enable_debug_mode()`.\n",
      "  warnings.warn(\n"
     ]
    },
    {
     "data": {
      "text/plain": [
       "'neutral'"
      ]
     },
     "execution_count": 44,
     "metadata": {},
     "output_type": "execute_result"
    }
   ],
   "source": [
    "test(Sampel)"
   ]
  },
  {
   "cell_type": "code",
   "execution_count": 45,
   "id": "7102901d",
   "metadata": {},
   "outputs": [
    {
     "name": "stdout",
     "output_type": "stream",
     "text": [
      "Model has created!\n"
     ]
    }
   ],
   "source": [
    "#Simpan model\n",
    "model.save('model_cnn.h5')\n",
    "print(\"Model has created!\")"
   ]
  },
  {
   "cell_type": "code",
   "execution_count": 46,
   "id": "2b63dc27",
   "metadata": {},
   "outputs": [
    {
     "name": "stdout",
     "output_type": "stream",
     "text": [
      "tknzr.pickle has created!\n"
     ]
    }
   ],
   "source": [
    "import pickle\n",
    "\n",
    "with open('tknzr.pickle', 'wb') as handle:\n",
    "    pickle.dump(tknzr, handle, protocol=pickle.HIGHEST_PROTOCOL)\n",
    "    print(\"tknzr.pickle has created!\")"
   ]
  },
  {
   "cell_type": "code",
   "execution_count": 47,
   "id": "f0a55816",
   "metadata": {},
   "outputs": [
    {
     "name": "stdout",
     "output_type": "stream",
     "text": [
      "Berhasil\n"
     ]
    }
   ],
   "source": [
    "import pickle\n",
    "file = open(\"tknzr.pickle\",\"rb\")\n",
    "tknzr = pickle.load(file)\n",
    "file.close()\n",
    "\n",
    "print(\"Berhasil\")"
   ]
  },
  {
   "cell_type": "code",
   "execution_count": 48,
   "id": "1b50e1e1",
   "metadata": {},
   "outputs": [
    {
     "name": "stdout",
     "output_type": "stream",
     "text": [
      "berhasil\n"
     ]
    }
   ],
   "source": [
    "# load model\n",
    "from keras.models import load_model\n",
    "model_NN = load_model(\"model_cnn.h5\")\n",
    "print(\"berhasil\")"
   ]
  },
  {
   "cell_type": "code",
   "execution_count": 127,
   "id": "9a8ea22a",
   "metadata": {},
   "outputs": [],
   "source": [
    "# Data Test\n",
    "df_test = pd.read_csv('test_data.csv')\n",
    "df_test.columns = ['kalimat','HS']"
   ]
  },
  {
   "cell_type": "code",
   "execution_count": 128,
   "id": "df4a6fc1",
   "metadata": {
    "scrolled": true
   },
   "outputs": [
    {
     "data": {
      "text/html": [
       "<div>\n",
       "<style scoped>\n",
       "    .dataframe tbody tr th:only-of-type {\n",
       "        vertical-align: middle;\n",
       "    }\n",
       "\n",
       "    .dataframe tbody tr th {\n",
       "        vertical-align: top;\n",
       "    }\n",
       "\n",
       "    .dataframe thead th {\n",
       "        text-align: right;\n",
       "    }\n",
       "</style>\n",
       "<table border=\"1\" class=\"dataframe\">\n",
       "  <thead>\n",
       "    <tr style=\"text-align: right;\">\n",
       "      <th></th>\n",
       "      <th>kalimat</th>\n",
       "      <th>HS</th>\n",
       "    </tr>\n",
       "  </thead>\n",
       "  <tbody>\n",
       "    <tr>\n",
       "      <th>0</th>\n",
       "      <td>nasi liwet asep stroberi 1 yang terletak di ja...</td>\n",
       "      <td>positive</td>\n",
       "    </tr>\n",
       "    <tr>\n",
       "      <th>1</th>\n",
       "      <td>tolong dipercepat lagi pengiriman nya .</td>\n",
       "      <td>negative</td>\n",
       "    </tr>\n",
       "    <tr>\n",
       "      <th>2</th>\n",
       "      <td>handphone saya lenovo , kecemplung di comberan...</td>\n",
       "      <td>positive</td>\n",
       "    </tr>\n",
       "    <tr>\n",
       "      <th>3</th>\n",
       "      <td>ini suki and barbeque versi murah meriah . lum...</td>\n",
       "      <td>positive</td>\n",
       "    </tr>\n",
       "    <tr>\n",
       "      <th>4</th>\n",
       "      <td>mau melihat bandung dari atas ? nah ini tempat...</td>\n",
       "      <td>positive</td>\n",
       "    </tr>\n",
       "    <tr>\n",
       "      <th>...</th>\n",
       "      <td>...</td>\n",
       "      <td>...</td>\n",
       "    </tr>\n",
       "    <tr>\n",
       "      <th>1095</th>\n",
       "      <td>mau petik stroberi nya tetapi ternyata sedang ...</td>\n",
       "      <td>positive</td>\n",
       "    </tr>\n",
       "    <tr>\n",
       "      <th>1096</th>\n",
       "      <td>yang benar saja masa nomer whatsapp saya di bl...</td>\n",
       "      <td>negative</td>\n",
       "    </tr>\n",
       "    <tr>\n",
       "      <th>1097</th>\n",
       "      <td>food court yang memiliki berbagai macam piliha...</td>\n",
       "      <td>positive</td>\n",
       "    </tr>\n",
       "    <tr>\n",
       "      <th>1098</th>\n",
       "      <td>gorengan basi dihidangkan , selera murahan</td>\n",
       "      <td>negative</td>\n",
       "    </tr>\n",
       "    <tr>\n",
       "      <th>1099</th>\n",
       "      <td>negara indonesia terancam bangkrut .</td>\n",
       "      <td>negative</td>\n",
       "    </tr>\n",
       "  </tbody>\n",
       "</table>\n",
       "<p>1100 rows × 2 columns</p>\n",
       "</div>"
      ],
      "text/plain": [
       "                                                kalimat        HS\n",
       "0     nasi liwet asep stroberi 1 yang terletak di ja...  positive\n",
       "1               tolong dipercepat lagi pengiriman nya .  negative\n",
       "2     handphone saya lenovo , kecemplung di comberan...  positive\n",
       "3     ini suki and barbeque versi murah meriah . lum...  positive\n",
       "4     mau melihat bandung dari atas ? nah ini tempat...  positive\n",
       "...                                                 ...       ...\n",
       "1095  mau petik stroberi nya tetapi ternyata sedang ...  positive\n",
       "1096  yang benar saja masa nomer whatsapp saya di bl...  negative\n",
       "1097  food court yang memiliki berbagai macam piliha...  positive\n",
       "1098         gorengan basi dihidangkan , selera murahan  negative\n",
       "1099               negara indonesia terancam bangkrut .  negative\n",
       "\n",
       "[1100 rows x 2 columns]"
      ]
     },
     "execution_count": 128,
     "metadata": {},
     "output_type": "execute_result"
    }
   ],
   "source": [
    "df_test"
   ]
  },
  {
   "cell_type": "code",
   "execution_count": 129,
   "id": "6aa190c0",
   "metadata": {},
   "outputs": [],
   "source": [
    "# tes file\n",
    "def test_file_nn(kalimat):\n",
    "    df_test['kalimat'] = df_test.apply(lambda row : preprocessing_text(row['kalimat']), axis = 1)\n",
    "    input_kalimat = df_test['kalimat'].to_list()\n",
    "\n",
    "    input_kalimat = tknzr.texts_to_sequences(input_kalimat)\n",
    "    input_kalimat = pad_sequences(input_kalimat, maxlen=64)\n",
    "    \n",
    "    hasil = model_NN.predict(input_kalimat)\n",
    "    hasil = hasil.argmax(axis=-1)\n",
    "\n",
    "    \n",
    "    # konversi nilai prediksi menjadi label sentimen\n",
    "    labels = {0: \"negative\", 1: \"neutral\", 2: \"positive\"}\n",
    "    df_test[\"label_prediksi\"] = [labels[pred] for pred in hasil.tolist()]\n",
    "    return df_test['kalimat']"
   ]
  },
  {
   "cell_type": "code",
   "execution_count": 131,
   "id": "e43c92c4",
   "metadata": {},
   "outputs": [
    {
     "name": "stdout",
     "output_type": "stream",
     "text": [
      "11/35 [========>.....................] - ETA: 0s"
     ]
    },
    {
     "name": "stderr",
     "output_type": "stream",
     "text": [
      "C:\\Users\\Syauqi\\AppData\\Local\\Programs\\Python\\Python311\\Lib\\site-packages\\tensorflow\\python\\data\\ops\\structured_function.py:254: UserWarning: Even though the `tf.config.experimental_run_functions_eagerly` option is set, this option does not apply to tf.data functions. To force eager execution of tf.data functions, please use `tf.data.experimental.enable_debug_mode()`.\n",
      "  warnings.warn(\n"
     ]
    },
    {
     "name": "stdout",
     "output_type": "stream",
     "text": [
      "35/35 [==============================] - 0s 12ms/step\n"
     ]
    },
    {
     "ename": "ValueError",
     "evalue": "invalid literal for int() with base 10: 'nasi liwet asep stroberi 1 yang terletak di jalan nagreg ini pilihan makanan minuman nya variatif , harga terjangkau , tempat nya enak apalagi lesehan yang di bawah pemandangan nya bagus menghadap un",
     "output_type": "error",
     "traceback": [
      "\u001b[1;31m---------------------------------------------------------------------------\u001b[0m",
      "\u001b[1;31mValueError\u001b[0m                                Traceback (most recent call last)",
      "Cell \u001b[1;32mIn [131], line 2\u001b[0m\n\u001b[0;32m      1\u001b[0m y_pred \u001b[38;5;241m=\u001b[39m test_file_nn(df_test[\u001b[38;5;124m'\u001b[39m\u001b[38;5;124mkalimat\u001b[39m\u001b[38;5;124m'\u001b[39m])\n\u001b[1;32m----> 2\u001b[0m y_pred \u001b[38;5;241m=\u001b[39m \u001b[43my_pred\u001b[49m\u001b[38;5;241;43m.\u001b[39;49m\u001b[43mto_numpy\u001b[49m\u001b[43m(\u001b[49m\u001b[43mdtype\u001b[49m\u001b[38;5;241;43m=\u001b[39;49m\u001b[38;5;28;43mint\u001b[39;49m\u001b[43m)\u001b[49m\n\u001b[0;32m      3\u001b[0m y_pred \u001b[38;5;241m=\u001b[39m y_pred\u001b[38;5;241m.\u001b[39margmax(axis\u001b[38;5;241m=\u001b[39m\u001b[38;5;241m-\u001b[39m\u001b[38;5;241m1\u001b[39m)\n",
      "File \u001b[1;32m~\\AppData\\Local\\Programs\\Python\\Python311\\Lib\\site-packages\\pandas\\core\\base.py:535\u001b[0m, in \u001b[0;36mIndexOpsMixin.to_numpy\u001b[1;34m(self, dtype, copy, na_value, **kwargs)\u001b[0m\n\u001b[0;32m    530\u001b[0m     bad_keys \u001b[38;5;241m=\u001b[39m \u001b[38;5;28mlist\u001b[39m(kwargs\u001b[38;5;241m.\u001b[39mkeys())[\u001b[38;5;241m0\u001b[39m]\n\u001b[0;32m    531\u001b[0m     \u001b[38;5;28;01mraise\u001b[39;00m \u001b[38;5;167;01mTypeError\u001b[39;00m(\n\u001b[0;32m    532\u001b[0m         \u001b[38;5;124mf\u001b[39m\u001b[38;5;124m\"\u001b[39m\u001b[38;5;124mto_numpy() got an unexpected keyword argument \u001b[39m\u001b[38;5;124m'\u001b[39m\u001b[38;5;132;01m{\u001b[39;00mbad_keys\u001b[38;5;132;01m}\u001b[39;00m\u001b[38;5;124m'\u001b[39m\u001b[38;5;124m\"\u001b[39m\n\u001b[0;32m    533\u001b[0m     )\n\u001b[1;32m--> 535\u001b[0m result \u001b[38;5;241m=\u001b[39m \u001b[43mnp\u001b[49m\u001b[38;5;241;43m.\u001b[39;49m\u001b[43masarray\u001b[49m\u001b[43m(\u001b[49m\u001b[38;5;28;43mself\u001b[39;49m\u001b[38;5;241;43m.\u001b[39;49m\u001b[43m_values\u001b[49m\u001b[43m,\u001b[49m\u001b[43m \u001b[49m\u001b[43mdtype\u001b[49m\u001b[38;5;241;43m=\u001b[39;49m\u001b[43mdtype\u001b[49m\u001b[43m)\u001b[49m\n\u001b[0;32m    536\u001b[0m \u001b[38;5;66;03m# TODO(GH-24345): Avoid potential double copy\u001b[39;00m\n\u001b[0;32m    537\u001b[0m \u001b[38;5;28;01mif\u001b[39;00m copy \u001b[38;5;129;01mor\u001b[39;00m na_value \u001b[38;5;129;01mis\u001b[39;00m \u001b[38;5;129;01mnot\u001b[39;00m lib\u001b[38;5;241m.\u001b[39mno_default:\n",
      "\u001b[1;31mValueError\u001b[0m: invalid literal for int() with base 10: 'nasi liwet asep stroberi 1 yang terletak di jalan nagreg ini pilihan makanan minuman nya variatif , harga terjangkau , tempat nya enak apalagi lesehan yang di bawah pemandangan nya bagus menghadap un"
     ]
    }
   ],
   "source": [
    "y_pred = test_file_nn(df_test['kalimat'])\n",
    "y_pred = y_pred.argmax(axis=-1)"
   ]
  },
  {
   "cell_type": "code",
   "execution_count": 110,
   "id": "885dba6a",
   "metadata": {},
   "outputs": [
    {
     "data": {
      "text/html": [
       "<div>\n",
       "<style scoped>\n",
       "    .dataframe tbody tr th:only-of-type {\n",
       "        vertical-align: middle;\n",
       "    }\n",
       "\n",
       "    .dataframe tbody tr th {\n",
       "        vertical-align: top;\n",
       "    }\n",
       "\n",
       "    .dataframe thead th {\n",
       "        text-align: right;\n",
       "    }\n",
       "</style>\n",
       "<table border=\"1\" class=\"dataframe\">\n",
       "  <thead>\n",
       "    <tr style=\"text-align: right;\">\n",
       "      <th></th>\n",
       "      <th>kalimat</th>\n",
       "      <th>HS</th>\n",
       "      <th>label_prediksi</th>\n",
       "    </tr>\n",
       "  </thead>\n",
       "  <tbody>\n",
       "    <tr>\n",
       "      <th>0</th>\n",
       "      <td>nasi liwet asep stroberi 1 yang terletak di ja...</td>\n",
       "      <td>positive</td>\n",
       "      <td>positive</td>\n",
       "    </tr>\n",
       "    <tr>\n",
       "      <th>1</th>\n",
       "      <td>tolong dipercepat lagi pengiriman nya .</td>\n",
       "      <td>negative</td>\n",
       "      <td>neutral</td>\n",
       "    </tr>\n",
       "    <tr>\n",
       "      <th>2</th>\n",
       "      <td>handphone saya lenovo , kecemplung di comberan...</td>\n",
       "      <td>positive</td>\n",
       "      <td>negative</td>\n",
       "    </tr>\n",
       "    <tr>\n",
       "      <th>3</th>\n",
       "      <td>ini suki and barbeque versi murah meriah . lum...</td>\n",
       "      <td>positive</td>\n",
       "      <td>positive</td>\n",
       "    </tr>\n",
       "    <tr>\n",
       "      <th>4</th>\n",
       "      <td>mau melihat bandung dari atas ? nah ini tempat...</td>\n",
       "      <td>positive</td>\n",
       "      <td>positive</td>\n",
       "    </tr>\n",
       "    <tr>\n",
       "      <th>...</th>\n",
       "      <td>...</td>\n",
       "      <td>...</td>\n",
       "      <td>...</td>\n",
       "    </tr>\n",
       "    <tr>\n",
       "      <th>1095</th>\n",
       "      <td>mau petik stroberi nya tetapi ternyata sedang ...</td>\n",
       "      <td>positive</td>\n",
       "      <td>positive</td>\n",
       "    </tr>\n",
       "    <tr>\n",
       "      <th>1096</th>\n",
       "      <td>yang benar saja masa nomer whatsapp saya di bl...</td>\n",
       "      <td>negative</td>\n",
       "      <td>negative</td>\n",
       "    </tr>\n",
       "    <tr>\n",
       "      <th>1097</th>\n",
       "      <td>food cou yang memiliki berbagai macam pilihan ...</td>\n",
       "      <td>positive</td>\n",
       "      <td>positive</td>\n",
       "    </tr>\n",
       "    <tr>\n",
       "      <th>1098</th>\n",
       "      <td>gorengan basi dihidangkan , selera murahan</td>\n",
       "      <td>negative</td>\n",
       "      <td>neutral</td>\n",
       "    </tr>\n",
       "    <tr>\n",
       "      <th>1099</th>\n",
       "      <td>negara indonesia terancam bangkrut .</td>\n",
       "      <td>negative</td>\n",
       "      <td>negative</td>\n",
       "    </tr>\n",
       "  </tbody>\n",
       "</table>\n",
       "<p>1100 rows × 3 columns</p>\n",
       "</div>"
      ],
      "text/plain": [
       "                                                kalimat        HS  \\\n",
       "0     nasi liwet asep stroberi 1 yang terletak di ja...  positive   \n",
       "1               tolong dipercepat lagi pengiriman nya .  negative   \n",
       "2     handphone saya lenovo , kecemplung di comberan...  positive   \n",
       "3     ini suki and barbeque versi murah meriah . lum...  positive   \n",
       "4     mau melihat bandung dari atas ? nah ini tempat...  positive   \n",
       "...                                                 ...       ...   \n",
       "1095  mau petik stroberi nya tetapi ternyata sedang ...  positive   \n",
       "1096  yang benar saja masa nomer whatsapp saya di bl...  negative   \n",
       "1097  food cou yang memiliki berbagai macam pilihan ...  positive   \n",
       "1098         gorengan basi dihidangkan , selera murahan  negative   \n",
       "1099               negara indonesia terancam bangkrut .  negative   \n",
       "\n",
       "     label_prediksi  \n",
       "0          positive  \n",
       "1           neutral  \n",
       "2          negative  \n",
       "3          positive  \n",
       "4          positive  \n",
       "...             ...  \n",
       "1095       positive  \n",
       "1096       negative  \n",
       "1097       positive  \n",
       "1098        neutral  \n",
       "1099       negative  \n",
       "\n",
       "[1100 rows x 3 columns]"
      ]
     },
     "execution_count": 110,
     "metadata": {},
     "output_type": "execute_result"
    }
   ],
   "source": [
    "y_pred"
   ]
  },
  {
   "cell_type": "code",
   "execution_count": 111,
   "id": "a138a35b",
   "metadata": {},
   "outputs": [
    {
     "ename": "ValueError",
     "evalue": "Classification metrics can't handle a mix of multiclass and multiclass-multioutput targets",
     "output_type": "error",
     "traceback": [
      "\u001b[1;31m---------------------------------------------------------------------------\u001b[0m",
      "\u001b[1;31mValueError\u001b[0m                                Traceback (most recent call last)",
      "Cell \u001b[1;32mIn [111], line 2\u001b[0m\n\u001b[0;32m      1\u001b[0m \u001b[38;5;66;03m#Hasil Test Model\u001b[39;00m\n\u001b[1;32m----> 2\u001b[0m \u001b[38;5;28mprint\u001b[39m(\u001b[43maccuracy_score\u001b[49m\u001b[43m(\u001b[49m\u001b[43my_pred\u001b[49m\u001b[38;5;241;43m=\u001b[39;49m\u001b[43my_pred\u001b[49m\u001b[43m,\u001b[49m\u001b[43m \u001b[49m\u001b[43my_true\u001b[49m\u001b[38;5;241;43m=\u001b[39;49m\u001b[43mdf_test\u001b[49m\u001b[43m[\u001b[49m\u001b[38;5;124;43m'\u001b[39;49m\u001b[38;5;124;43mHS\u001b[39;49m\u001b[38;5;124;43m'\u001b[39;49m\u001b[43m]\u001b[49m\u001b[38;5;241;43m.\u001b[39;49m\u001b[43mvalues\u001b[49m\u001b[43m)\u001b[49m)\n\u001b[0;32m      3\u001b[0m \u001b[38;5;28mprint\u001b[39m(precision_recall_fscore_support(y_pred\u001b[38;5;241m=\u001b[39my_pred, y_true\u001b[38;5;241m=\u001b[39mdf_test[\u001b[38;5;124m'\u001b[39m\u001b[38;5;124mHS\u001b[39m\u001b[38;5;124m'\u001b[39m]\u001b[38;5;241m.\u001b[39mvalues, average\u001b[38;5;241m=\u001b[39m\u001b[38;5;124m'\u001b[39m\u001b[38;5;124mmacro\u001b[39m\u001b[38;5;124m'\u001b[39m))\n",
      "File \u001b[1;32m~\\AppData\\Local\\Programs\\Python\\Python311\\Lib\\site-packages\\sklearn\\utils\\_param_validation.py:192\u001b[0m, in \u001b[0;36mvalidate_params.<locals>.decorator.<locals>.wrapper\u001b[1;34m(*args, **kwargs)\u001b[0m\n\u001b[0;32m    187\u001b[0m validate_parameter_constraints(\n\u001b[0;32m    188\u001b[0m     parameter_constraints, params, caller_name\u001b[38;5;241m=\u001b[39mfunc\u001b[38;5;241m.\u001b[39m\u001b[38;5;18m__qualname__\u001b[39m\n\u001b[0;32m    189\u001b[0m )\n\u001b[0;32m    191\u001b[0m \u001b[38;5;28;01mtry\u001b[39;00m:\n\u001b[1;32m--> 192\u001b[0m     \u001b[38;5;28;01mreturn\u001b[39;00m \u001b[43mfunc\u001b[49m\u001b[43m(\u001b[49m\u001b[38;5;241;43m*\u001b[39;49m\u001b[43margs\u001b[49m\u001b[43m,\u001b[49m\u001b[43m \u001b[49m\u001b[38;5;241;43m*\u001b[39;49m\u001b[38;5;241;43m*\u001b[39;49m\u001b[43mkwargs\u001b[49m\u001b[43m)\u001b[49m\n\u001b[0;32m    193\u001b[0m \u001b[38;5;28;01mexcept\u001b[39;00m InvalidParameterError \u001b[38;5;28;01mas\u001b[39;00m e:\n\u001b[0;32m    194\u001b[0m     \u001b[38;5;66;03m# When the function is just a wrapper around an estimator, we allow\u001b[39;00m\n\u001b[0;32m    195\u001b[0m     \u001b[38;5;66;03m# the function to delegate validation to the estimator, but we replace\u001b[39;00m\n\u001b[0;32m    196\u001b[0m     \u001b[38;5;66;03m# the name of the estimator by the name of the function in the error\u001b[39;00m\n\u001b[0;32m    197\u001b[0m     \u001b[38;5;66;03m# message to avoid confusion.\u001b[39;00m\n\u001b[0;32m    198\u001b[0m     msg \u001b[38;5;241m=\u001b[39m re\u001b[38;5;241m.\u001b[39msub(\n\u001b[0;32m    199\u001b[0m         \u001b[38;5;124mr\u001b[39m\u001b[38;5;124m\"\u001b[39m\u001b[38;5;124mparameter of \u001b[39m\u001b[38;5;124m\\\u001b[39m\u001b[38;5;124mw+ must be\u001b[39m\u001b[38;5;124m\"\u001b[39m,\n\u001b[0;32m    200\u001b[0m         \u001b[38;5;124mf\u001b[39m\u001b[38;5;124m\"\u001b[39m\u001b[38;5;124mparameter of \u001b[39m\u001b[38;5;132;01m{\u001b[39;00mfunc\u001b[38;5;241m.\u001b[39m\u001b[38;5;18m__qualname__\u001b[39m\u001b[38;5;132;01m}\u001b[39;00m\u001b[38;5;124m must be\u001b[39m\u001b[38;5;124m\"\u001b[39m,\n\u001b[0;32m    201\u001b[0m         \u001b[38;5;28mstr\u001b[39m(e),\n\u001b[0;32m    202\u001b[0m     )\n",
      "File \u001b[1;32m~\\AppData\\Local\\Programs\\Python\\Python311\\Lib\\site-packages\\sklearn\\metrics\\_classification.py:221\u001b[0m, in \u001b[0;36maccuracy_score\u001b[1;34m(y_true, y_pred, normalize, sample_weight)\u001b[0m\n\u001b[0;32m    155\u001b[0m \u001b[38;5;124;03m\"\"\"Accuracy classification score.\u001b[39;00m\n\u001b[0;32m    156\u001b[0m \n\u001b[0;32m    157\u001b[0m \u001b[38;5;124;03mIn multilabel classification, this function computes subset accuracy:\u001b[39;00m\n\u001b[1;32m   (...)\u001b[0m\n\u001b[0;32m    217\u001b[0m \u001b[38;5;124;03m0.5\u001b[39;00m\n\u001b[0;32m    218\u001b[0m \u001b[38;5;124;03m\"\"\"\u001b[39;00m\n\u001b[0;32m    220\u001b[0m \u001b[38;5;66;03m# Compute accuracy for each possible representation\u001b[39;00m\n\u001b[1;32m--> 221\u001b[0m y_type, y_true, y_pred \u001b[38;5;241m=\u001b[39m \u001b[43m_check_targets\u001b[49m\u001b[43m(\u001b[49m\u001b[43my_true\u001b[49m\u001b[43m,\u001b[49m\u001b[43m \u001b[49m\u001b[43my_pred\u001b[49m\u001b[43m)\u001b[49m\n\u001b[0;32m    222\u001b[0m check_consistent_length(y_true, y_pred, sample_weight)\n\u001b[0;32m    223\u001b[0m \u001b[38;5;28;01mif\u001b[39;00m y_type\u001b[38;5;241m.\u001b[39mstartswith(\u001b[38;5;124m\"\u001b[39m\u001b[38;5;124mmultilabel\u001b[39m\u001b[38;5;124m\"\u001b[39m):\n",
      "File \u001b[1;32m~\\AppData\\Local\\Programs\\Python\\Python311\\Lib\\site-packages\\sklearn\\metrics\\_classification.py:95\u001b[0m, in \u001b[0;36m_check_targets\u001b[1;34m(y_true, y_pred)\u001b[0m\n\u001b[0;32m     92\u001b[0m     y_type \u001b[38;5;241m=\u001b[39m {\u001b[38;5;124m\"\u001b[39m\u001b[38;5;124mmulticlass\u001b[39m\u001b[38;5;124m\"\u001b[39m}\n\u001b[0;32m     94\u001b[0m \u001b[38;5;28;01mif\u001b[39;00m \u001b[38;5;28mlen\u001b[39m(y_type) \u001b[38;5;241m>\u001b[39m \u001b[38;5;241m1\u001b[39m:\n\u001b[1;32m---> 95\u001b[0m     \u001b[38;5;28;01mraise\u001b[39;00m \u001b[38;5;167;01mValueError\u001b[39;00m(\n\u001b[0;32m     96\u001b[0m         \u001b[38;5;124m\"\u001b[39m\u001b[38;5;124mClassification metrics can\u001b[39m\u001b[38;5;124m'\u001b[39m\u001b[38;5;124mt handle a mix of \u001b[39m\u001b[38;5;132;01m{0}\u001b[39;00m\u001b[38;5;124m and \u001b[39m\u001b[38;5;132;01m{1}\u001b[39;00m\u001b[38;5;124m targets\u001b[39m\u001b[38;5;124m\"\u001b[39m\u001b[38;5;241m.\u001b[39mformat(\n\u001b[0;32m     97\u001b[0m             type_true, type_pred\n\u001b[0;32m     98\u001b[0m         )\n\u001b[0;32m     99\u001b[0m     )\n\u001b[0;32m    101\u001b[0m \u001b[38;5;66;03m# We can't have more than one value on y_type => The set is no more needed\u001b[39;00m\n\u001b[0;32m    102\u001b[0m y_type \u001b[38;5;241m=\u001b[39m y_type\u001b[38;5;241m.\u001b[39mpop()\n",
      "\u001b[1;31mValueError\u001b[0m: Classification metrics can't handle a mix of multiclass and multiclass-multioutput targets"
     ]
    }
   ],
   "source": [
    "#Hasil Test Model\n",
    "print(accuracy_score(y_pred=y_pred, y_true=df_test['HS'].values))\n",
    "print(precision_recall_fscore_support(y_pred=y_pred, y_true=df_test['HS'].values, average='macro'))"
   ]
  },
  {
   "cell_type": "code",
   "execution_count": 88,
   "id": "59457895",
   "metadata": {},
   "outputs": [
    {
     "name": "stdout",
     "output_type": "stream",
     "text": [
      "None\n"
     ]
    }
   ],
   "source": [
    "print(y_pred)"
   ]
  },
  {
   "cell_type": "code",
   "execution_count": 61,
   "id": "d67b7939",
   "metadata": {},
   "outputs": [
    {
     "name": "stdout",
     "output_type": "stream",
     "text": [
      "                                                kalimat  \\\n",
      "0     tempat yang nyaman untuk berkumpul dengan tema...   \n",
      "1     memang banyak bacot sih , omongan doang gede b...   \n",
      "2     buat yang berkunjung ke bandung , yang ingin m...   \n",
      "3     restoran menyajikan makanan khas sunda yang en...   \n",
      "4     kalau travelling ke bandung , wajib makan bata...   \n",
      "...                                                 ...   \n",
      "9895  warung nasi ampera memiliki konsep rumah makan...   \n",
      "9896  mbak della sangat baik dan ramah , makanna nya...   \n",
      "9897  suasana nya sangat romantis jika makan malam d...   \n",
      "9898  masyarakat tidak kecewa jika dipimpin oleh jok...   \n",
      "9899  mau itu pak ridwan kamil atau pak dedi mulyadi...   \n",
      "\n",
      "                                        cleaned_kalimat  \\\n",
      "0     tempat yang nyaman untuk berkumpul dengan tema...   \n",
      "1     memang banyak bacot sih , omongan doang gede b...   \n",
      "2     buat yang berkunjung ke bandung , yang ingin m...   \n",
      "3     restoran menyajikan makanan khas sunda yang en...   \n",
      "4     kalau travelling ke bandung , wajib makan bata...   \n",
      "...                                                 ...   \n",
      "9895  warung nasi ampera memiliki konsep rumah makan...   \n",
      "9896  mbak della sangat baik dan ramah , makanna nya...   \n",
      "9897  suasana nya sangat romantis jika makan malam d...   \n",
      "9898  masyarakat tidak kecewa jika dipimpin oleh jok...   \n",
      "9899  mau itu pak ridwan kamil atau pak dedi mulyadi...   \n",
      "\n",
      "                                             text_clean label_prediksi  \n",
      "0     tempat yang nyaman untuk berkumpul dengan tema...       positive  \n",
      "1     memang banyak bacot sih , omongan doang gede b...       negative  \n",
      "2     buat yang berkunjung ke bandung , yang ingin m...       positive  \n",
      "3     restoran menyajikan makanan khas sunda yang en...       positive  \n",
      "4     kalau travelling ke bandung , wajib makan bata...       positive  \n",
      "...                                                 ...            ...  \n",
      "9895  warung nasi ampera memiliki konsep rumah makan...       positive  \n",
      "9896  mbak della sangat baik dan ramah , makanna nya...       positive  \n",
      "9897  suasana nya sangat romantis jika makan malam d...       positive  \n",
      "9898  masyarakat tidak kecewa jika dipimpin oleh jok...       positive  \n",
      "9899  mau itu pak ridwan kamil atau pak dedi mulyadi...       positive  \n",
      "\n",
      "[9900 rows x 4 columns]\n"
     ]
    }
   ],
   "source": [
    "print(df)"
   ]
  },
  {
   "cell_type": "code",
   "execution_count": null,
   "id": "6314b8bb",
   "metadata": {},
   "outputs": [],
   "source": []
  }
 ],
 "metadata": {
  "kernelspec": {
   "display_name": "Python 3 (ipykernel)",
   "language": "python",
   "name": "python3"
  },
  "language_info": {
   "codemirror_mode": {
    "name": "ipython",
    "version": 3
   },
   "file_extension": ".py",
   "mimetype": "text/x-python",
   "name": "python",
   "nbconvert_exporter": "python",
   "pygments_lexer": "ipython3",
   "version": "3.11.0"
  }
 },
 "nbformat": 4,
 "nbformat_minor": 5
}
